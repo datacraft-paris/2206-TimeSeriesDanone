{
 "cells": [
  {
   "cell_type": "markdown",
   "id": "6126a6c9",
   "metadata": {},
   "source": [
    "<div class=\"alert alert-info\">\n",
    "   <center>\n",
    "       <h3>Time Series Multi-Horizon Forecasting : comment prédire des phénomènes non stationnaires à des horizons de temps multiples ?</h3>\n",
    "       <br>\n",
    "      <p>Bonjour et bienvenu à cet atelier datacraft en collaboration avec Danone.</p>\n",
    "</center>\n",
    "    \n",
    "    \n",
    "        \n",
    "    \n",
    "\n",
    "   "
   ]
  },
  {
   "cell_type": "markdown",
   "id": "f3f0b343",
   "metadata": {},
   "source": [
    "L'objectif de cet atelier est de prédire la colonne ``ordered_volumes`` du jeu de données à différents horizons (1 semaines, 3 mois, 1 an). \n",
    "\n",
    "Il y a au total 125 produits différents mais vous pouvez vous concentrer sur seulement un produit de chaque cluster déterminé par Gabriel. Cette partie est détaillée dans le notebook **Clustering Datacraft**\n",
    "\n",
    "Nous pouvons donc nous concentrer sur un ou deux produit par cluster.\n"
   ]
  },
  {
   "cell_type": "markdown",
   "id": "d854bbe2",
   "metadata": {},
   "source": [
    "Ce notebook est dédié à l'exploration des données Danone et à l'utilisation des packages **prophet** et **neural prophet**.\n",
    "\n",
    "La fonction ``train_prophet_model`` permet d'entrainer un model prophet tout en modulant les paramètre en se passant de l'API prophet d'origine.\n",
    "\n",
    "La documentation et les exemples permettent de bien comprendre son utilisation mais n'hésitez pas à nous poser la moindre question.\n",
    "\n",
    "Si vous voulez vous passer de la fonction et passer directement par l'API (notamment si vous voulez faire de la cross validation, ajouter des saisonnalités ou moduler des paramètres non présents dans la fonction) je vous invite à regarder la doc prophet : \n",
    "\n",
    "- https://facebook.github.io/prophet/docs/quick_start.html#python-api\n",
    "- https://github.com/facebook/prophet/blob/main/python/prophet/forecaster.py\n",
    "\n"
   ]
  },
  {
   "cell_type": "markdown",
   "id": "205fc909",
   "metadata": {},
   "source": [
    "# Charger les librairies"
   ]
  },
  {
   "cell_type": "code",
   "execution_count": 78,
   "id": "969108cd",
   "metadata": {},
   "outputs": [],
   "source": [
    "import prophet\n",
    "import numpy as np\n",
    "from dash import Dash, State\n",
    "import pandas as pd\n",
    "from datetime import date\n",
    "from datetime import datetime\n",
    "from prophet import Prophet \n",
    "from prophet.plot import add_changepoints_to_plot\n",
    "from neuralprophet import NeuralProphet \n",
    "\n",
    "import plotly.graph_objects as go\n",
    "import plotly.express as px\n",
    "from plotly.tools import mpl_to_plotly\n",
    "\n",
    "from sklearn.metrics import mean_squared_error\n",
    "from sklearn.metrics import mean_absolute_error\n",
    "from sklearn.preprocessing import MinMaxScaler\n",
    "\n",
    "\n",
    "import matplotlib.pyplot as plt\n",
    "\n",
    "\n",
    "\n",
    "from dash.exceptions import PreventUpdate\n",
    "\n",
    "from jupyter_dash import JupyterDash\n",
    "import dash_core_components as dcc\n",
    "import dash_html_components as html\n",
    "from dash.dependencies import Output, Input\n",
    "\n",
    "\n",
    "from dash import html\n",
    "import dash_bootstrap_components as dbc"
   ]
  },
  {
   "cell_type": "markdown",
   "id": "eebc6728",
   "metadata": {},
   "source": [
    "# Charger les données"
   ]
  },
  {
   "cell_type": "code",
   "execution_count": 11,
   "id": "ad67b866",
   "metadata": {},
   "outputs": [],
   "source": [
    "df = pd.read_parquet(\"./data/forecasting.parquet.gzip\")\n",
    "danone = df.copy(deep = True)"
   ]
  },
  {
   "cell_type": "markdown",
   "id": "1cef404e",
   "metadata": {},
   "source": [
    "# Dictionnaire de sélection de variable"
   ]
  },
  {
   "cell_type": "code",
   "execution_count": 50,
   "id": "a0763d1d",
   "metadata": {},
   "outputs": [],
   "source": [
    "'''Colonnes qui vont rester dans le dataframe ou non, 0 si non, 1 si oui, \n",
    "si le nom n'est pas dedans, alors la colonne ne reste pas'''\n",
    "\n",
    "selected_columns = {\"time_index\" : 1,\"apparenttemperaturemax\" :1,\"cos_iso_month\" : 0,\"cos_iso_week\" : 0,\"cos_iso_week_of_month\": 0,\"days_before_next_holiday\": 0,\"forecasted_volumes\": 0,\"fu_cod\": 0,\"future_ordered_volumes_until_saturday_of_current_week\": 0,\"future_ordered_volumes_until_saturday_of_previous_week\": 0,\"holiday_day_of_week\": 0,\"holidays_count_in_week\": 0,\"iso_month\": 0,\"iso_week\": 0,\"iso_week_of_month\": 0,\"mat_net_weight_value_kg\": 0,\"ordered_volumes\": 1,\"precipintensity\": 1,\"promo_uplift_coefficient\": 0}"
   ]
  },
  {
   "cell_type": "markdown",
   "id": "10fe62a5",
   "metadata": {},
   "source": [
    "# Présentation du dataset"
   ]
  },
  {
   "cell_type": "code",
   "execution_count": 51,
   "id": "0a468ad0",
   "metadata": {},
   "outputs": [
    {
     "data": {
      "text/html": [
       "<div>\n",
       "<style scoped>\n",
       "    .dataframe tbody tr th:only-of-type {\n",
       "        vertical-align: middle;\n",
       "    }\n",
       "\n",
       "    .dataframe tbody tr th {\n",
       "        vertical-align: top;\n",
       "    }\n",
       "\n",
       "    .dataframe thead th {\n",
       "        text-align: right;\n",
       "    }\n",
       "</style>\n",
       "<table border=\"1\" class=\"dataframe\">\n",
       "  <thead>\n",
       "    <tr style=\"text-align: right;\">\n",
       "      <th></th>\n",
       "      <th>time_index</th>\n",
       "      <th>product_index</th>\n",
       "      <th>ordered_volumes</th>\n",
       "      <th>future_ordered_volumes_until_saturday_of_current_week</th>\n",
       "    </tr>\n",
       "  </thead>\n",
       "  <tbody>\n",
       "    <tr>\n",
       "      <th>26946</th>\n",
       "      <td>2017-01-09</td>\n",
       "      <td>60198</td>\n",
       "      <td>136.199997</td>\n",
       "      <td>136.199997</td>\n",
       "    </tr>\n",
       "    <tr>\n",
       "      <th>26947</th>\n",
       "      <td>2017-01-16</td>\n",
       "      <td>60198</td>\n",
       "      <td>142.199997</td>\n",
       "      <td>142.199997</td>\n",
       "    </tr>\n",
       "    <tr>\n",
       "      <th>26948</th>\n",
       "      <td>2017-01-23</td>\n",
       "      <td>60198</td>\n",
       "      <td>162.600006</td>\n",
       "      <td>162.600006</td>\n",
       "    </tr>\n",
       "    <tr>\n",
       "      <th>26949</th>\n",
       "      <td>2017-01-30</td>\n",
       "      <td>60198</td>\n",
       "      <td>181.199997</td>\n",
       "      <td>181.199997</td>\n",
       "    </tr>\n",
       "    <tr>\n",
       "      <th>26950</th>\n",
       "      <td>2017-02-06</td>\n",
       "      <td>60198</td>\n",
       "      <td>184.199997</td>\n",
       "      <td>184.199997</td>\n",
       "    </tr>\n",
       "  </tbody>\n",
       "</table>\n",
       "</div>"
      ],
      "text/plain": [
       "      time_index  product_index  ordered_volumes  \\\n",
       "26946 2017-01-09          60198       136.199997   \n",
       "26947 2017-01-16          60198       142.199997   \n",
       "26948 2017-01-23          60198       162.600006   \n",
       "26949 2017-01-30          60198       181.199997   \n",
       "26950 2017-02-06          60198       184.199997   \n",
       "\n",
       "       future_ordered_volumes_until_saturday_of_current_week  \n",
       "26946                                         136.199997      \n",
       "26947                                         142.199997      \n",
       "26948                                         162.600006      \n",
       "26949                                         181.199997      \n",
       "26950                                         184.199997      "
      ]
     },
     "execution_count": 51,
     "metadata": {},
     "output_type": "execute_result"
    }
   ],
   "source": [
    "df.sort_values([\"product_index\", \"time_index\"])\\\n",
    "    .head()[[\"time_index\",\"product_index\",\"ordered_volumes\", \"future_ordered_volumes_until_saturday_of_current_week\"]]"
   ]
  },
  {
   "cell_type": "code",
   "execution_count": 52,
   "id": "72afa58f",
   "metadata": {},
   "outputs": [
    {
     "data": {
      "text/html": [
       "<div>\n",
       "<style scoped>\n",
       "    .dataframe tbody tr th:only-of-type {\n",
       "        vertical-align: middle;\n",
       "    }\n",
       "\n",
       "    .dataframe tbody tr th {\n",
       "        vertical-align: top;\n",
       "    }\n",
       "\n",
       "    .dataframe thead th {\n",
       "        text-align: right;\n",
       "    }\n",
       "</style>\n",
       "<table border=\"1\" class=\"dataframe\">\n",
       "  <thead>\n",
       "    <tr style=\"text-align: right;\">\n",
       "      <th></th>\n",
       "      <th>time_index</th>\n",
       "      <th>product_index</th>\n",
       "      <th>ordered_volumes</th>\n",
       "      <th>promo_mean_horizon_0</th>\n",
       "    </tr>\n",
       "  </thead>\n",
       "  <tbody>\n",
       "    <tr>\n",
       "      <th>26946</th>\n",
       "      <td>2017-01-09</td>\n",
       "      <td>60198</td>\n",
       "      <td>136.199997</td>\n",
       "      <td>0.000000</td>\n",
       "    </tr>\n",
       "    <tr>\n",
       "      <th>26947</th>\n",
       "      <td>2017-01-16</td>\n",
       "      <td>60198</td>\n",
       "      <td>142.199997</td>\n",
       "      <td>0.000000</td>\n",
       "    </tr>\n",
       "    <tr>\n",
       "      <th>26948</th>\n",
       "      <td>2017-01-23</td>\n",
       "      <td>60198</td>\n",
       "      <td>162.600006</td>\n",
       "      <td>0.000000</td>\n",
       "    </tr>\n",
       "    <tr>\n",
       "      <th>26949</th>\n",
       "      <td>2017-01-30</td>\n",
       "      <td>60198</td>\n",
       "      <td>181.199997</td>\n",
       "      <td>0.000000</td>\n",
       "    </tr>\n",
       "    <tr>\n",
       "      <th>26950</th>\n",
       "      <td>2017-02-06</td>\n",
       "      <td>60198</td>\n",
       "      <td>184.199997</td>\n",
       "      <td>10.653943</td>\n",
       "    </tr>\n",
       "  </tbody>\n",
       "</table>\n",
       "</div>"
      ],
      "text/plain": [
       "      time_index  product_index  ordered_volumes  promo_mean_horizon_0\n",
       "26946 2017-01-09          60198       136.199997              0.000000\n",
       "26947 2017-01-16          60198       142.199997              0.000000\n",
       "26948 2017-01-23          60198       162.600006              0.000000\n",
       "26949 2017-01-30          60198       181.199997              0.000000\n",
       "26950 2017-02-06          60198       184.199997             10.653943"
      ]
     },
     "execution_count": 52,
     "metadata": {},
     "output_type": "execute_result"
    }
   ],
   "source": [
    "df.sort_values([\"product_index\",\"time_index\"])\\\n",
    "    .head()[[\"time_index\",\"product_index\",\"ordered_volumes\", \"promo_mean_horizon_0\"]]"
   ]
  },
  {
   "cell_type": "markdown",
   "id": "39dea284",
   "metadata": {},
   "source": [
    "Dans ce dataset, on a des données sur le volume des commandes réalisés par les clients, le tout par semaine.\n",
    "On aura le total des commandes effectuées par les clients du Lundi au Vendredi, cette données est disponible dans les colonnes : <br> <b>ordered_volumes</b> ainsi que dans <br> <b>future_ordered_volumes_until_saturday_of_current_week</b>"
   ]
  },
  {
   "cell_type": "code",
   "execution_count": 54,
   "id": "2c5bfd97",
   "metadata": {},
   "outputs": [
    {
     "data": {
      "text/html": [
       "<div>\n",
       "<style scoped>\n",
       "    .dataframe tbody tr th:only-of-type {\n",
       "        vertical-align: middle;\n",
       "    }\n",
       "\n",
       "    .dataframe tbody tr th {\n",
       "        vertical-align: top;\n",
       "    }\n",
       "\n",
       "    .dataframe thead th {\n",
       "        text-align: right;\n",
       "    }\n",
       "</style>\n",
       "<table border=\"1\" class=\"dataframe\">\n",
       "  <thead>\n",
       "    <tr style=\"text-align: right;\">\n",
       "      <th></th>\n",
       "      <th>time_index</th>\n",
       "      <th>product_index</th>\n",
       "      <th>precipintensity</th>\n",
       "      <th>apparenttemperaturemax</th>\n",
       "    </tr>\n",
       "  </thead>\n",
       "  <tbody>\n",
       "    <tr>\n",
       "      <th>26946</th>\n",
       "      <td>2017-01-09</td>\n",
       "      <td>60198</td>\n",
       "      <td>0.002171</td>\n",
       "      <td>40.996632</td>\n",
       "    </tr>\n",
       "    <tr>\n",
       "      <th>26947</th>\n",
       "      <td>2017-01-16</td>\n",
       "      <td>60198</td>\n",
       "      <td>0.000264</td>\n",
       "      <td>34.286678</td>\n",
       "    </tr>\n",
       "    <tr>\n",
       "      <th>26948</th>\n",
       "      <td>2017-01-23</td>\n",
       "      <td>60198</td>\n",
       "      <td>0.001450</td>\n",
       "      <td>40.556255</td>\n",
       "    </tr>\n",
       "    <tr>\n",
       "      <th>26949</th>\n",
       "      <td>2017-01-30</td>\n",
       "      <td>60198</td>\n",
       "      <td>0.003083</td>\n",
       "      <td>51.472401</td>\n",
       "    </tr>\n",
       "    <tr>\n",
       "      <th>26950</th>\n",
       "      <td>2017-02-06</td>\n",
       "      <td>60198</td>\n",
       "      <td>0.001145</td>\n",
       "      <td>44.919128</td>\n",
       "    </tr>\n",
       "  </tbody>\n",
       "</table>\n",
       "</div>"
      ],
      "text/plain": [
       "      time_index  product_index  precipintensity  apparenttemperaturemax\n",
       "26946 2017-01-09          60198         0.002171               40.996632\n",
       "26947 2017-01-16          60198         0.000264               34.286678\n",
       "26948 2017-01-23          60198         0.001450               40.556255\n",
       "26949 2017-01-30          60198         0.003083               51.472401\n",
       "26950 2017-02-06          60198         0.001145               44.919128"
      ]
     },
     "execution_count": 54,
     "metadata": {},
     "output_type": "execute_result"
    }
   ],
   "source": [
    "df.sort_values([\"product_index\", \"time_index\"])\\\n",
    "    .head()[[\"time_index\",\"product_index\",\"precipintensity\", \"apparenttemperaturemax\"]]"
   ]
  },
  {
   "cell_type": "markdown",
   "id": "22429373",
   "metadata": {},
   "source": [
    "Ici, nous avons affichés certains <b>régresseurs</b>, ceux-ci permettent de rajouter de l'information sur la timeline actuelle et éventuellement d'expliquer certains changements aperçus sur la colonne du volume de commandes.\n",
    "Le model <b>prophet</b> ira regarder ces variable et pourra en fonction de la corrélation appliquer des corrections"
   ]
  },
  {
   "cell_type": "markdown",
   "id": "e96fe38f",
   "metadata": {},
   "source": [
    "## Fonctions utiles"
   ]
  },
  {
   "cell_type": "code",
   "execution_count": 46,
   "id": "358ca2e0",
   "metadata": {},
   "outputs": [],
   "source": [
    "def min_max_scale_df(df):\n",
    "    \"\"\"\n",
    "        Allows to transform data with large scale into percent of min-max\n",
    "        from data set\n",
    "\n",
    "        @param : df, dataframe\n",
    "        @return : df, dataframe\n",
    "    \"\"\"\n",
    "    scaler = MinMaxScaler()\n",
    "    df[\"ordered_volumes\"] = scaler.fit_transform(np.array(df[\"ordered_volumes\"]).reshape(-1,1))\n",
    "    return df\n",
    "\n",
    "def get_df_selected_columns(df,selected_columns):\n",
    "    \"\"\"\n",
    "        Allows to select columns of a dataframe \n",
    "\n",
    "        @param : df, dataframe\n",
    "        @return : df, dataframe\n",
    "    \"\"\"\n",
    "    \n",
    "    columns = []\n",
    "    for col in selected_columns:\n",
    "        if selected_columns[col] == 1:\n",
    "            columns.append(col)\n",
    "    \n",
    "    return df[columns]\n",
    "\n",
    "def year_to_date(date_sep):\n",
    "    \"\"\"\n",
    "        Convert year (from int format) to date based on 1 January <year>\n",
    "        \n",
    "        @param : year, int\n",
    "        @return : date, converted year to date\n",
    "    \"\"\"\n",
    "    if type(date_sep) in [float, int]:\n",
    "        date_sep = datetime.strptime(str(date_sep), \"%Y\")\n",
    "\n",
    "    else:\n",
    "        if len(date_sep) == 4:\n",
    "            date_sep = datetime.strptime(str(date_sep), \"%Y\")\n",
    "        else :\n",
    "            date_sep = datetime.strptime(str(date_sep), \"%Y-%m-%d\")\n",
    "    return date_sep\n",
    "    \n",
    "\n",
    "def prepare_df(df,product_id,selected_columns):\n",
    "    \n",
    "    \"\"\"\n",
    "        Processings on df : \n",
    "            - Select wanted product\n",
    "            - Sort from start date time to end\n",
    "            - Distinguish necessary columns from regressors\n",
    "            - Rename columns (df,y) to fit prophet model expectations\n",
    "        \n",
    "        @param : df, dataframe\n",
    "        @return : df (dataframe), regressor (list of regressors column's names)\n",
    "        \n",
    "    \"\"\"\n",
    "    \n",
    "    df = df.query(f'product_index=={product_id}')\n",
    "    df = get_df_selected_columns(df,selected_columns).sort_values('time_index')\n",
    "    updated_columns = set(df.columns)\n",
    "    main_columns = set([\"time_index\", \"ordered_volumes\"])\n",
    "    \n",
    "    regressor = updated_columns.difference(main_columns)\n",
    "    \n",
    "    df= df[df['ordered_volumes']>0]\n",
    "    df.rename(columns = {\"time_index\" : \"ds\", \"ordered_volumes\" : \"y\"}, inplace=True)\n",
    "    df.dropna(subset=regressor, inplace=True)\n",
    "    regressor = list(regressor)\n",
    "    df.reset_index(inplace=True, drop=True)\n",
    "    df.dropna(subset=regressor, inplace=True)\n",
    "    \n",
    "    return df, regressor\n",
    "    \n",
    "def split_df(df, prediction_w_period,separation_date):\n",
    "    \n",
    "    \"\"\"\n",
    "        Used to make train set and test set, takes a separation date\n",
    "        and a prediction period in weeks\n",
    "        \n",
    "        @param : df, dataframe\n",
    "        @param : prediction_w_period, period of prediction in weeks\n",
    "        @param : separation_date, the separation date which takes\n",
    "        the first part for train and second part calculated with prediction_w_period\n",
    "    \"\"\"\n",
    "    \n",
    "    separation_date = year_to_date(separation_date)\n",
    "    \n",
    "    df_train = df[df.ds.apply(lambda date:date)<separation_date]\n",
    "    df_test = df[df.ds.apply(lambda date:date)>=separation_date]\n",
    "    df_test = df_test.iloc[:prediction_w_period]\n",
    "    \n",
    "    return df_train, df_test"
   ]
  },
  {
   "cell_type": "markdown",
   "id": "3d082282",
   "metadata": {},
   "source": [
    "# Voir la documentation : <a href = \"https://github.com/ourownstory/neural_prophet/blob/main/neuralprophet/forecaster.py\">NeuralProphet</a>"
   ]
  },
  {
   "cell_type": "code",
   "execution_count": 48,
   "id": "9526b0c1",
   "metadata": {},
   "outputs": [],
   "source": [
    "params = {\n",
    "    \"changepoints\" : None, #lorsqu'on donne ce paramètre, le model ne va detecter aucun changepoints (ce n'est pas le paramètre par défaut)\n",
    "    \"n_changepoints\" : 25, # nombre de changepoints # pas utile si on spécifie changepoints\n",
    "    \"changepoints_range\" : 0.8, # n_changepoints répartis sur 80% sur train set \n",
    "    \"trend_reg\" : 0,\n",
    "    \"trend_reg_threshold\" : False,\n",
    "    \"yearly_seasonality\" :\"auto\",\n",
    "    \"weekly_seasonality\" :\"auto\",\n",
    "    \"daily_seasonality\": \"auto\",\n",
    "    \"seasonality_mode\" : \"additive\",\n",
    "    \"seasonality_reg\" : 0,\n",
    "    \"n_forecasts\" : 1,\n",
    "    \"n_lags\" : 0,\n",
    "    \"num_hidden_layers\" : 0,\n",
    "    \"d_hidden\" : None,\n",
    "    \"ar_reg\" : None,\n",
    "    \"learning_rate\" : None,\n",
    "    \"epochs\" : None,\n",
    "    \"batch_size\" : None,\n",
    "    \"loss_func\" : \"Huber\",\n",
    "    \"optimizer\" : \"AdamW\",\n",
    "    \"newer_samples_weight\" : 2,\n",
    "    \"newer_samples_start\" : 0.0,\n",
    "    \"impute_missing\" : True,\n",
    "    \"collect_metrics\" :True,\n",
    "    \"normalize\" :\"auto\",\n",
    "    \"global_normalization\" :False,\n",
    "    \"global_time_normalization\" : True,\n",
    "    \"unknown_data_normalization\" : False,\n",
    "}\n",
    "\n",
    "def train_neural_prophet_model( params,\n",
    "                                df = danone,\n",
    "                                freq = \"W-MON\",\n",
    "                                product_id = 70189,\n",
    "                                date_sep = 2020,\n",
    "                                periode = 12 # nombre de semaine dans le test_se\n",
    "):\n",
    "    \n",
    "    selected_columns = {\"time_index\" : 1, \"ordered_volumes\" : 1}\n",
    "    \n",
    "    df, regressor = prepare_df(df, product_id, selected_columns)\n",
    "    df_train, df_test = split_df(df,periode,date_sep)\n",
    "    date_sep = year_to_date(date_sep)\n",
    "    \n",
    "            \n",
    "    #if add_holiday == True: \n",
    "    \n",
    "            \n",
    "    m = NeuralProphet(**params)\n",
    "    \n",
    "    m.add_country_holidays(\"FR\")\n",
    "    \n",
    "    df_train, df_val = NeuralProphet().split_df(df_train, valid_p=0.2)\n",
    "    \n",
    "    m.fit(df_train, freq = freq, validation_df = df_val)\n",
    "    \n",
    "    forecast = m.predict(df_test)\n",
    "    \n",
    "    metrics = m.test(forecast.copy(deep=True))\n",
    "    \n",
    "    future = df_test\n",
    "    \n",
    "    df = pd.concat([df_train, df_val],axis=0)\n",
    "    \n",
    "    df = pd.concat([df, df_test], axis=0)\n",
    "    \n",
    "    residuals = pd.DataFrame()\n",
    "    \n",
    "    residuals['ds']=df[df.ds>=date_sep][\"ds\"]\n",
    "\n",
    "    residuals['e'] = df[df.ds>=date_sep]['y']-forecast[forecast.ds>=date_sep]['yhat1']\n",
    "\n",
    "    residuals.reset_index(drop=True, inplace=True)\n",
    "    \n",
    "    return m, df, future, forecast, residuals, metrics"
   ]
  },
  {
   "cell_type": "code",
   "execution_count": 13,
   "id": "dfde795a",
   "metadata": {},
   "outputs": [],
   "source": [
    "def train_prophet_model(df = danone,\n",
    "                product_id = 70189,\n",
    "\n",
    "                interval = 0.95,\n",
    "\n",
    "                add_holiday = True,\n",
    "\n",
    "                regressor = [],\n",
    "                \n",
    "                #changepoints \n",
    "\n",
    "                changepoints = None, #lorsqu'on donne ce paramètre, le model ne va detecter aucun changepoints (ce n'est pas le paramètre par défaut)\n",
    "\n",
    "                changepoint_prior_scale=0.05, #sensibilité aux changement dans la trend (si on estime par exemple que le changement de trend n'en est pas un)\n",
    "\n",
    "                n_changepoints = 25, # nombre de changepoints # pas utile si on spécifie changepoints\n",
    "\n",
    "                changepoint_range = 0.8, # n_changepoints répartis sur 80% sur train set \n",
    "\n",
    "                #growth\n",
    "\n",
    "                growth = 'linear', #type de trend 'linear', 'logistic' or 'flat' \n",
    "                                     #si growth = logistic on est obligé de renseigné cap \n",
    "\n",
    "                cap = None, # default = None# carrying capacity : When forecasting growth, there is usually some maximum achievable point: total market size = carrying capacity\n",
    "                        #cap peut être une liste comme une constante\n",
    "\n",
    "                floor = None,\n",
    "\n",
    "                holidays = pd.DataFrame({'ds':pd.to_datetime(['2017-01-16']),\n",
    "                                         'holiday':'saint-machin'}), #default = None\n",
    "\n",
    "                #saisonnalité \n",
    "\n",
    "                #on peut donner la valeur False lorsqu'on vetu disabler une forme de saisonnalité\n",
    "\n",
    "                yearly_seasonality = 'auto', # un entier sinon \n",
    "                                          #The default values are often appropriate, but they can be increased when the seasonality needs to fit higher-frequency changes, and generally be less smooth\n",
    "                                          # tester 'auto' et 10 qui est selon la doc la valeur par défaut\n",
    "                                          #Increasing the number of Fourier terms allows the seasonality to fit faster changing cycles, but can also lead to overfitting: N Fourier terms corresponds to 2N variables used for modeling the cycle\n",
    "                                          # https://facebook.github.io/prophet/docs/seasonality,_holiday_effects,_and_regressors.html#specifying-custom-seasonalities\n",
    "                                                          # on peut ajouté seasonality_prior_scale \n",
    "\n",
    "                seasonality_mode = 'additive', #ou mutliplicative\n",
    "\n",
    "                # si les vacances ou les saisonnalités sont overfittés ou peut utiliser prior scale (defaut =10)\n",
    "\n",
    "                seasonality_prior_scale = 10.0,\n",
    "                holidays_prior_scale = 10.0,\n",
    "\n",
    "                mcmc_samples = 0,\n",
    "\n",
    "                uncertainty_samples = 1000,\n",
    "                \n",
    "                date_sep = 2020,\n",
    "\n",
    "                periode = 12 # nombre de semaine dans le test_set\n",
    "):\n",
    "    \n",
    "    \n",
    "    \n",
    "    \"\"\"\n",
    "    Process the danone df, split it, train the model on the train. \n",
    "\n",
    "    Return the trained model, the processed prophet friendly df, the forecast df with forecasted values and the residuals df with residuals.\n",
    "        \n",
    "    @param df, DataFrame (default=danone)\n",
    "    \n",
    "    @param product_id, int : the produt_index we want to forecast, must be in the 'product_index' column of df\n",
    "    \n",
    "    @param date_sep int or string : the date at which we want to divide our dataset. \n",
    "    example : '2019', 2019, '2020-01-13'\n",
    "    \n",
    "    @param periode, int : number of weeks we want in the train set \n",
    "    \n",
    "    @param cap : int, DataFrame, Series, array, list : carrying capacity : When forecasting growth, there is usually some maximum achievable point: total market size, total population size, etc. This is called the carrying capacity, and the forecast should saturate at this point. \n",
    "    \n",
    "    @param floor : int, DataFrame, Series, array, list saturating minimum\n",
    "    \n",
    "    @param interval : Float, width of the uncertainty intervals provided for the forecast.\n",
    "    If mcmc_samples=0, this will be only the uncertainty in the trend using the MAP estimate of the extrapolated generative model.\n",
    "    If mcmc.samples>0, this will be integrated over all model parameters, which will include uncertainty in seasonality. \n",
    "    \n",
    "    @param add_holidays, bool : True if we want to include the effects of prophet built-in holidays (defalut=False)\n",
    "    (Jour de l'an, Fête du Travail, Armistice 1945, Fête nationale, Armistice 1918, Lundi de Pâques, Lundi de Pentecôte, Ascension, Assomption, Toussaint, Noël)\n",
    "    \n",
    "    @param regressor, list : list of the regressors we want to include in the model, must be names of columns of df. (default=empty list)\n",
    "    \n",
    "    @param changepoints, list : list of dates where we suspect a change in the trend, dates must be strings and must be in the time_index column of df (default=None)\n",
    "    \n",
    "    @param n_changepoints, int : if changepoints=None, the model distribute n_changepoints on the train_set and test if there is a change in the trend at those points.\n",
    "    Not used if `changepoints` is specified\n",
    "    \n",
    "    @param changepoint_range, float in [0,1] : Proportion of history in which trend changepoints willbe estimated.\n",
    "    Defaults to 0.8 for the first 80%. Not used if`changepoints` is specified\n",
    "    \n",
    "    @param yearly_seasonality : 'auto', True, False or a number of Fourier terms to generate (default=auto)\n",
    "    \n",
    "    \n",
    "    @param holidays : DataFrame with columns holiday (string) and ds (date type)\n",
    "    and optionally columns lower_window and upper_window which specify arange of days around the date to be included as holidays.lower_window=-2 will include 2 days prior to the date as holidays.\n",
    "    Also optionally can have a column prior_scale specifying the prior scale for that holiday.\n",
    "    \n",
    "    @param seasonality_mode : 'additive'(default), 'mutltiplicative'\n",
    "    \n",
    "    @param seasonality_prior_scale : int or float, Parameter modulating the strength of the seasonality model.\n",
    "    Larger values allow the model to fit larger seasonal fluctuations, smaller values dampen the seasonality. Can be specified for individual seasonalities using add_seasonality.\n",
    "    \n",
    "    @param holidays_prior_scale : int or float, Parameter modulating the strength of the holiday components model, unless overridden in the holidays input.\n",
    "    \n",
    "    @param mcmc_samples : int, if greater than 0, will do full Bayesian inference with the specified number of MCMC samples. If 0, will do MAP estimation.\n",
    "    \n",
    "    @param uncertainty_samples : Number of simulated draws used to estimate uncertainty intervals. Settings this value to 0 or False will disable uncertainty estimation and speed up the calculation. \n",
    "    \n",
    "    @return m : prophet model : the trained model\n",
    "    \n",
    "    @return df : DataFrame : the processed df in a prophet-friendly shape \n",
    "    \n",
    "    @return future : DataFrame : a single column DataFrame with train set dates and test set dates concatenated\n",
    "    \n",
    "    @return residuals : DataFrame : DataFrame : DataFrame with e = y-yhat for each prediction\n",
    "    \"\"\"\n",
    "    \n",
    "    df = df.query(f'product_index=={product_id}')\n",
    "    df = df[['time_index','ordered_volumes']+regressor].sort_values('time_index')\n",
    "    df = df[df['ordered_volumes']>0]\n",
    "    df.columns = ['ds','y']+regressor\n",
    "    df.dropna(subset=regressor, inplace=True)\n",
    "    df.reset_index(inplace=True, drop=True)\n",
    "\n",
    "\n",
    "    if cap !=None and growth == 'linear':\n",
    "        df['cap'] = cap ####################### future a remplacer \n",
    "        df['floor'] = floor\n",
    "\n",
    "    if floor !=None and growth == 'logistic':\n",
    "        df['cap'] = cap \n",
    "        df['floor'] = floor  #####################\n",
    "\n",
    "    df.dropna(subset=regressor, inplace=True)\n",
    "\n",
    "\n",
    "    if type(date_sep) in [float, int]:\n",
    "        date_sep = datetime.strptime(str(date_sep), \"%Y\")\n",
    "        df_train = df[df.ds<date_sep]\n",
    "        df_test = df[df.ds>=date_sep]\n",
    "\n",
    "    else:\n",
    "        if len(date_sep) == 4:\n",
    "            date_sep = datetime.strptime(str(date_sep), \"%Y\")\n",
    "            df_train = df[df.ds<date_sep]\n",
    "            df_test = df[df.ds>=date_sep]\n",
    "        else :\n",
    "            date_sep = datetime.strptime(str(date_sep), \"%Y-%m-%d\")\n",
    "            df_train = df[df.ds<date_sep]\n",
    "            df_test = df[df.ds>=date_sep]\n",
    "\n",
    "    m = Prophet(interval_width=interval, changepoints=changepoints, changepoint_prior_scale=changepoint_prior_scale,n_changepoints=n_changepoints,\n",
    "                growth=growth,\n",
    "                holidays=holidays, holidays_prior_scale=holidays_prior_scale,\n",
    "                yearly_seasonality=yearly_seasonality, weekly_seasonality=weekly_seasonality, daily_seasonality=daily_seasonality,\n",
    "                seasonality_prior_scale=seasonality_prior_scale,\n",
    "                mcmc_samples=mcmc_samples, uncertainty_samples=uncertainty_samples)\n",
    "\n",
    "    if add_holiday == True: \n",
    "        m.add_country_holidays(country_name=\"FR\")\n",
    "\n",
    "    for reg in regressor:\n",
    "        m.add_regressor(regressor)\n",
    "\n",
    "    m.fit(df_train)\n",
    "\n",
    "    future = m.make_future_dataframe(periods=periode, freq='W-MON', include_history=True)\n",
    "\n",
    "    future[regressor] = df[regressor] # à modifier si include_history=False\n",
    "\n",
    "\n",
    "    if cap !=None and growth == 'linear':\n",
    "        future['cap'] = cap  \n",
    "\n",
    "    if floor !=None and growth == 'logistic':\n",
    "        future['cap'] = cap \n",
    "        future['floor'] = floor \n",
    "\n",
    "    forecast = m.predict(future)\n",
    "\n",
    "    residuals = pd.DataFrame()\n",
    "\n",
    "    residuals['ds']=future.tail(periode)[\"ds\"]\n",
    "\n",
    "    residuals['e'] = df[df.ds>=date_sep]['y']-forecast[forecast.ds>=date_sep]['yhat']\n",
    "\n",
    "    residuals.reset_index(drop=True, inplace=True)\n",
    "\n",
    "    return m, df, future, forecast, residuals"
   ]
  },
  {
   "cell_type": "markdown",
   "id": "a6aba555",
   "metadata": {},
   "source": [
    "# Affichage des performances du modèle"
   ]
  },
  {
   "cell_type": "code",
   "execution_count": 56,
   "id": "af55623d",
   "metadata": {},
   "outputs": [],
   "source": [
    "def plot_my_ploty_graph(df, forecast, product_id=70189,year=2021):\n",
    "    mse = mean_squared_error(forecast['yhat'],df['y']) ######### a modifier\n",
    "    mae = mean_absolute_error(forecast['yhat'],df['y'])\n",
    "\n",
    "    s1 = go.Scatter(x=forecast['ds'], y=forecast['yhat_lower'], name='yhat_lower',fill='tonexty',line={\"color\":\"gray\"},fillcolor='rgba(68, 68, 68, 0.1)',showlegend=True)\n",
    "\n",
    "    s2 = go.Scatter(x=forecast['ds'], y=forecast['yhat'], name='prediction',line={\"color\":\"red\"})\n",
    "\n",
    "    s3 = go.Scatter(x=forecast['ds'], y=forecast['yhat_upper'], name='yhat_upper',line={\"color\":\"gray\"},showlegend=True)\n",
    "\n",
    "    fig = go.Figure(data=[s2,s3,s1],layout={'title':f'Prédiction à 1 an des quantités de {product_id}'})\n",
    "\n",
    "    fig.add_scatter(x=df['ds'],y=df['y'],mode='markers',name='Quantité observé')\n",
    "\n",
    "    fig.add_vline(x=str(year_to_date(year)), line_width=3, line_color=\"green\")\n",
    "\n",
    "    fig.add_annotation(x='2017', y=600,\n",
    "                text=f\"MSE : {mse}\",\n",
    "                showarrow=False,\n",
    "                arrowhead=1)\n",
    "\n",
    "    fig.add_annotation(x='2017', y=550,\n",
    "                text=f\"MAE : {mae}\",\n",
    "                showarrow=False,\n",
    "                arrowhead=1)\n",
    "\n",
    "\n",
    "    fig.update_layout(hovermode='x',\n",
    "                     xaxis_title='Date',yaxis_title='Quantités')\n",
    "\n",
    "    fig.show()\n",
    "    \n",
    "    return(fig)"
   ]
  },
  {
   "cell_type": "code",
   "execution_count": 80,
   "id": "14798314",
   "metadata": {},
   "outputs": [],
   "source": [
    "def plot_my_neural_graph(forecast, product_id=70189,year=2021):\n",
    "    \"\"\"\n",
    "    Show model's benchmarks via graphical interface\n",
    "    \n",
    "    @param : forecast, dataframe with ds, y and yhat (prediction value)\n",
    "    @param : product_id, the product id to select\n",
    "    @param : year, the separation year between train and test set\n",
    "    \"\"\"\n",
    "    mse = mean_squared_error(forecast['yhat1'],forecast['y']) ######### a modifier\n",
    "    mae = mean_absolute_error(forecast['yhat1'],forecast['y'])\n",
    "    \n",
    "    s2 = go.Scatter(x=forecast['ds'], y=forecast['yhat1'], name='prediction',line={\"color\":\"red\"})\n",
    "\n",
    "\n",
    "    fig = go.Figure(data=[s2],layout={'title':f'Prédiction à 1 an des quantités de {product_id}'})\n",
    "\n",
    "    fig.add_scatter(x=forecast['ds'],y=forecast['y'],mode='markers',name='Quantité observé')\n",
    "\n",
    "    fig.add_vline(x=str(year_to_date(year)), line_width=3, line_color=\"green\")\n",
    "\n",
    "    fig.add_annotation(x='2017', y=600,\n",
    "                text=f\"MSE : {mse}\",\n",
    "                showarrow=False,\n",
    "                arrowhead=1)\n",
    "\n",
    "    fig.add_annotation(x='2017', y=550,\n",
    "                text=f\"MAE : {mae}\",\n",
    "                showarrow=False,\n",
    "                arrowhead=1)\n",
    "\n",
    "\n",
    "    fig.update_layout(hovermode='x',\n",
    "                     xaxis_title='Date',yaxis_title='Quantités')\n",
    "\n",
    "    #fig.show()\n",
    "    \n",
    "    return(fig)"
   ]
  },
  {
   "cell_type": "code",
   "execution_count": 81,
   "id": "cfa4f244",
   "metadata": {},
   "outputs": [
    {
     "data": {
      "application/vnd.plotly.v1+json": {
       "config": {
        "plotlyServerURL": "https://plot.ly"
       },
       "data": [
        {
         "line": {
          "color": "red"
         },
         "name": "prediction",
         "type": "scatter",
         "x": [
          "2020-01-06T00:00:00",
          "2020-01-13T00:00:00",
          "2020-01-20T00:00:00",
          "2020-01-27T00:00:00",
          "2020-02-03T00:00:00",
          "2020-02-10T00:00:00",
          "2020-02-17T00:00:00",
          "2020-02-24T00:00:00",
          "2020-03-02T00:00:00",
          "2020-03-09T00:00:00",
          "2020-03-16T00:00:00",
          "2020-03-23T00:00:00"
         ],
         "y": [
          9.218703269958496,
          17.643747329711914,
          26.026870727539062,
          33.3319206237793,
          40.177833557128906,
          48.7001953125,
          61.45581817626953,
          79.88383483886719,
          103.10848236083984,
          127.7388916015625,
          148.84519958496094,
          161.71022033691406
         ]
        },
        {
         "mode": "markers",
         "name": "Quantité observé",
         "type": "scatter",
         "x": [
          "2020-01-06T00:00:00",
          "2020-01-13T00:00:00",
          "2020-01-20T00:00:00",
          "2020-01-27T00:00:00",
          "2020-02-03T00:00:00",
          "2020-02-10T00:00:00",
          "2020-02-17T00:00:00",
          "2020-02-24T00:00:00",
          "2020-03-02T00:00:00",
          "2020-03-09T00:00:00",
          "2020-03-16T00:00:00",
          "2020-03-23T00:00:00"
         ],
         "y": [
          141.1199951171875,
          120.95999908447266,
          215.0399932861328,
          115.91999816894531,
          172.1999969482422,
          136.9199981689453,
          317.5199890136719,
          228.47999572753906,
          330.9599914550781,
          256.20001220703125,
          157.9199981689453,
          182.27999877929688
         ]
        }
       ],
       "layout": {
        "annotations": [
         {
          "arrowhead": 1,
          "showarrow": false,
          "text": "MSE : 21033.77091981823",
          "x": "2017",
          "y": 600
         },
         {
          "arrowhead": 1,
          "showarrow": false,
          "text": "MAE : 126.47318736712138",
          "x": "2017",
          "y": 550
         }
        ],
        "hovermode": "x",
        "shapes": [
         {
          "line": {
           "color": "green",
           "width": 3
          },
          "type": "line",
          "x0": "2021-01-01 00:00:00",
          "x1": "2021-01-01 00:00:00",
          "xref": "x",
          "y0": 0,
          "y1": 1,
          "yref": "y domain"
         }
        ],
        "template": {
         "data": {
          "bar": [
           {
            "error_x": {
             "color": "#2a3f5f"
            },
            "error_y": {
             "color": "#2a3f5f"
            },
            "marker": {
             "line": {
              "color": "#E5ECF6",
              "width": 0.5
             },
             "pattern": {
              "fillmode": "overlay",
              "size": 10,
              "solidity": 0.2
             }
            },
            "type": "bar"
           }
          ],
          "barpolar": [
           {
            "marker": {
             "line": {
              "color": "#E5ECF6",
              "width": 0.5
             },
             "pattern": {
              "fillmode": "overlay",
              "size": 10,
              "solidity": 0.2
             }
            },
            "type": "barpolar"
           }
          ],
          "carpet": [
           {
            "aaxis": {
             "endlinecolor": "#2a3f5f",
             "gridcolor": "white",
             "linecolor": "white",
             "minorgridcolor": "white",
             "startlinecolor": "#2a3f5f"
            },
            "baxis": {
             "endlinecolor": "#2a3f5f",
             "gridcolor": "white",
             "linecolor": "white",
             "minorgridcolor": "white",
             "startlinecolor": "#2a3f5f"
            },
            "type": "carpet"
           }
          ],
          "choropleth": [
           {
            "colorbar": {
             "outlinewidth": 0,
             "ticks": ""
            },
            "type": "choropleth"
           }
          ],
          "contour": [
           {
            "colorbar": {
             "outlinewidth": 0,
             "ticks": ""
            },
            "colorscale": [
             [
              0,
              "#0d0887"
             ],
             [
              0.1111111111111111,
              "#46039f"
             ],
             [
              0.2222222222222222,
              "#7201a8"
             ],
             [
              0.3333333333333333,
              "#9c179e"
             ],
             [
              0.4444444444444444,
              "#bd3786"
             ],
             [
              0.5555555555555556,
              "#d8576b"
             ],
             [
              0.6666666666666666,
              "#ed7953"
             ],
             [
              0.7777777777777778,
              "#fb9f3a"
             ],
             [
              0.8888888888888888,
              "#fdca26"
             ],
             [
              1,
              "#f0f921"
             ]
            ],
            "type": "contour"
           }
          ],
          "contourcarpet": [
           {
            "colorbar": {
             "outlinewidth": 0,
             "ticks": ""
            },
            "type": "contourcarpet"
           }
          ],
          "heatmap": [
           {
            "colorbar": {
             "outlinewidth": 0,
             "ticks": ""
            },
            "colorscale": [
             [
              0,
              "#0d0887"
             ],
             [
              0.1111111111111111,
              "#46039f"
             ],
             [
              0.2222222222222222,
              "#7201a8"
             ],
             [
              0.3333333333333333,
              "#9c179e"
             ],
             [
              0.4444444444444444,
              "#bd3786"
             ],
             [
              0.5555555555555556,
              "#d8576b"
             ],
             [
              0.6666666666666666,
              "#ed7953"
             ],
             [
              0.7777777777777778,
              "#fb9f3a"
             ],
             [
              0.8888888888888888,
              "#fdca26"
             ],
             [
              1,
              "#f0f921"
             ]
            ],
            "type": "heatmap"
           }
          ],
          "heatmapgl": [
           {
            "colorbar": {
             "outlinewidth": 0,
             "ticks": ""
            },
            "colorscale": [
             [
              0,
              "#0d0887"
             ],
             [
              0.1111111111111111,
              "#46039f"
             ],
             [
              0.2222222222222222,
              "#7201a8"
             ],
             [
              0.3333333333333333,
              "#9c179e"
             ],
             [
              0.4444444444444444,
              "#bd3786"
             ],
             [
              0.5555555555555556,
              "#d8576b"
             ],
             [
              0.6666666666666666,
              "#ed7953"
             ],
             [
              0.7777777777777778,
              "#fb9f3a"
             ],
             [
              0.8888888888888888,
              "#fdca26"
             ],
             [
              1,
              "#f0f921"
             ]
            ],
            "type": "heatmapgl"
           }
          ],
          "histogram": [
           {
            "marker": {
             "pattern": {
              "fillmode": "overlay",
              "size": 10,
              "solidity": 0.2
             }
            },
            "type": "histogram"
           }
          ],
          "histogram2d": [
           {
            "colorbar": {
             "outlinewidth": 0,
             "ticks": ""
            },
            "colorscale": [
             [
              0,
              "#0d0887"
             ],
             [
              0.1111111111111111,
              "#46039f"
             ],
             [
              0.2222222222222222,
              "#7201a8"
             ],
             [
              0.3333333333333333,
              "#9c179e"
             ],
             [
              0.4444444444444444,
              "#bd3786"
             ],
             [
              0.5555555555555556,
              "#d8576b"
             ],
             [
              0.6666666666666666,
              "#ed7953"
             ],
             [
              0.7777777777777778,
              "#fb9f3a"
             ],
             [
              0.8888888888888888,
              "#fdca26"
             ],
             [
              1,
              "#f0f921"
             ]
            ],
            "type": "histogram2d"
           }
          ],
          "histogram2dcontour": [
           {
            "colorbar": {
             "outlinewidth": 0,
             "ticks": ""
            },
            "colorscale": [
             [
              0,
              "#0d0887"
             ],
             [
              0.1111111111111111,
              "#46039f"
             ],
             [
              0.2222222222222222,
              "#7201a8"
             ],
             [
              0.3333333333333333,
              "#9c179e"
             ],
             [
              0.4444444444444444,
              "#bd3786"
             ],
             [
              0.5555555555555556,
              "#d8576b"
             ],
             [
              0.6666666666666666,
              "#ed7953"
             ],
             [
              0.7777777777777778,
              "#fb9f3a"
             ],
             [
              0.8888888888888888,
              "#fdca26"
             ],
             [
              1,
              "#f0f921"
             ]
            ],
            "type": "histogram2dcontour"
           }
          ],
          "mesh3d": [
           {
            "colorbar": {
             "outlinewidth": 0,
             "ticks": ""
            },
            "type": "mesh3d"
           }
          ],
          "parcoords": [
           {
            "line": {
             "colorbar": {
              "outlinewidth": 0,
              "ticks": ""
             }
            },
            "type": "parcoords"
           }
          ],
          "pie": [
           {
            "automargin": true,
            "type": "pie"
           }
          ],
          "scatter": [
           {
            "marker": {
             "colorbar": {
              "outlinewidth": 0,
              "ticks": ""
             }
            },
            "type": "scatter"
           }
          ],
          "scatter3d": [
           {
            "line": {
             "colorbar": {
              "outlinewidth": 0,
              "ticks": ""
             }
            },
            "marker": {
             "colorbar": {
              "outlinewidth": 0,
              "ticks": ""
             }
            },
            "type": "scatter3d"
           }
          ],
          "scattercarpet": [
           {
            "marker": {
             "colorbar": {
              "outlinewidth": 0,
              "ticks": ""
             }
            },
            "type": "scattercarpet"
           }
          ],
          "scattergeo": [
           {
            "marker": {
             "colorbar": {
              "outlinewidth": 0,
              "ticks": ""
             }
            },
            "type": "scattergeo"
           }
          ],
          "scattergl": [
           {
            "marker": {
             "colorbar": {
              "outlinewidth": 0,
              "ticks": ""
             }
            },
            "type": "scattergl"
           }
          ],
          "scattermapbox": [
           {
            "marker": {
             "colorbar": {
              "outlinewidth": 0,
              "ticks": ""
             }
            },
            "type": "scattermapbox"
           }
          ],
          "scatterpolar": [
           {
            "marker": {
             "colorbar": {
              "outlinewidth": 0,
              "ticks": ""
             }
            },
            "type": "scatterpolar"
           }
          ],
          "scatterpolargl": [
           {
            "marker": {
             "colorbar": {
              "outlinewidth": 0,
              "ticks": ""
             }
            },
            "type": "scatterpolargl"
           }
          ],
          "scatterternary": [
           {
            "marker": {
             "colorbar": {
              "outlinewidth": 0,
              "ticks": ""
             }
            },
            "type": "scatterternary"
           }
          ],
          "surface": [
           {
            "colorbar": {
             "outlinewidth": 0,
             "ticks": ""
            },
            "colorscale": [
             [
              0,
              "#0d0887"
             ],
             [
              0.1111111111111111,
              "#46039f"
             ],
             [
              0.2222222222222222,
              "#7201a8"
             ],
             [
              0.3333333333333333,
              "#9c179e"
             ],
             [
              0.4444444444444444,
              "#bd3786"
             ],
             [
              0.5555555555555556,
              "#d8576b"
             ],
             [
              0.6666666666666666,
              "#ed7953"
             ],
             [
              0.7777777777777778,
              "#fb9f3a"
             ],
             [
              0.8888888888888888,
              "#fdca26"
             ],
             [
              1,
              "#f0f921"
             ]
            ],
            "type": "surface"
           }
          ],
          "table": [
           {
            "cells": {
             "fill": {
              "color": "#EBF0F8"
             },
             "line": {
              "color": "white"
             }
            },
            "header": {
             "fill": {
              "color": "#C8D4E3"
             },
             "line": {
              "color": "white"
             }
            },
            "type": "table"
           }
          ]
         },
         "layout": {
          "annotationdefaults": {
           "arrowcolor": "#2a3f5f",
           "arrowhead": 0,
           "arrowwidth": 1
          },
          "autotypenumbers": "strict",
          "coloraxis": {
           "colorbar": {
            "outlinewidth": 0,
            "ticks": ""
           }
          },
          "colorscale": {
           "diverging": [
            [
             0,
             "#8e0152"
            ],
            [
             0.1,
             "#c51b7d"
            ],
            [
             0.2,
             "#de77ae"
            ],
            [
             0.3,
             "#f1b6da"
            ],
            [
             0.4,
             "#fde0ef"
            ],
            [
             0.5,
             "#f7f7f7"
            ],
            [
             0.6,
             "#e6f5d0"
            ],
            [
             0.7,
             "#b8e186"
            ],
            [
             0.8,
             "#7fbc41"
            ],
            [
             0.9,
             "#4d9221"
            ],
            [
             1,
             "#276419"
            ]
           ],
           "sequential": [
            [
             0,
             "#0d0887"
            ],
            [
             0.1111111111111111,
             "#46039f"
            ],
            [
             0.2222222222222222,
             "#7201a8"
            ],
            [
             0.3333333333333333,
             "#9c179e"
            ],
            [
             0.4444444444444444,
             "#bd3786"
            ],
            [
             0.5555555555555556,
             "#d8576b"
            ],
            [
             0.6666666666666666,
             "#ed7953"
            ],
            [
             0.7777777777777778,
             "#fb9f3a"
            ],
            [
             0.8888888888888888,
             "#fdca26"
            ],
            [
             1,
             "#f0f921"
            ]
           ],
           "sequentialminus": [
            [
             0,
             "#0d0887"
            ],
            [
             0.1111111111111111,
             "#46039f"
            ],
            [
             0.2222222222222222,
             "#7201a8"
            ],
            [
             0.3333333333333333,
             "#9c179e"
            ],
            [
             0.4444444444444444,
             "#bd3786"
            ],
            [
             0.5555555555555556,
             "#d8576b"
            ],
            [
             0.6666666666666666,
             "#ed7953"
            ],
            [
             0.7777777777777778,
             "#fb9f3a"
            ],
            [
             0.8888888888888888,
             "#fdca26"
            ],
            [
             1,
             "#f0f921"
            ]
           ]
          },
          "colorway": [
           "#636efa",
           "#EF553B",
           "#00cc96",
           "#ab63fa",
           "#FFA15A",
           "#19d3f3",
           "#FF6692",
           "#B6E880",
           "#FF97FF",
           "#FECB52"
          ],
          "font": {
           "color": "#2a3f5f"
          },
          "geo": {
           "bgcolor": "white",
           "lakecolor": "white",
           "landcolor": "#E5ECF6",
           "showlakes": true,
           "showland": true,
           "subunitcolor": "white"
          },
          "hoverlabel": {
           "align": "left"
          },
          "hovermode": "closest",
          "mapbox": {
           "style": "light"
          },
          "paper_bgcolor": "white",
          "plot_bgcolor": "#E5ECF6",
          "polar": {
           "angularaxis": {
            "gridcolor": "white",
            "linecolor": "white",
            "ticks": ""
           },
           "bgcolor": "#E5ECF6",
           "radialaxis": {
            "gridcolor": "white",
            "linecolor": "white",
            "ticks": ""
           }
          },
          "scene": {
           "xaxis": {
            "backgroundcolor": "#E5ECF6",
            "gridcolor": "white",
            "gridwidth": 2,
            "linecolor": "white",
            "showbackground": true,
            "ticks": "",
            "zerolinecolor": "white"
           },
           "yaxis": {
            "backgroundcolor": "#E5ECF6",
            "gridcolor": "white",
            "gridwidth": 2,
            "linecolor": "white",
            "showbackground": true,
            "ticks": "",
            "zerolinecolor": "white"
           },
           "zaxis": {
            "backgroundcolor": "#E5ECF6",
            "gridcolor": "white",
            "gridwidth": 2,
            "linecolor": "white",
            "showbackground": true,
            "ticks": "",
            "zerolinecolor": "white"
           }
          },
          "shapedefaults": {
           "line": {
            "color": "#2a3f5f"
           }
          },
          "ternary": {
           "aaxis": {
            "gridcolor": "white",
            "linecolor": "white",
            "ticks": ""
           },
           "baxis": {
            "gridcolor": "white",
            "linecolor": "white",
            "ticks": ""
           },
           "bgcolor": "#E5ECF6",
           "caxis": {
            "gridcolor": "white",
            "linecolor": "white",
            "ticks": ""
           }
          },
          "title": {
           "x": 0.05
          },
          "xaxis": {
           "automargin": true,
           "gridcolor": "white",
           "linecolor": "white",
           "ticks": "",
           "title": {
            "standoff": 15
           },
           "zerolinecolor": "white",
           "zerolinewidth": 2
          },
          "yaxis": {
           "automargin": true,
           "gridcolor": "white",
           "linecolor": "white",
           "ticks": "",
           "title": {
            "standoff": 15
           },
           "zerolinecolor": "white",
           "zerolinewidth": 2
          }
         }
        },
        "title": {
         "text": "Prédiction à 1 an des quantités de 70189"
        },
        "xaxis": {
         "title": {
          "text": "Date"
         }
        },
        "yaxis": {
         "title": {
          "text": "Quantités"
         }
        }
       }
      },
      "text/html": [
       "<div>                            <div id=\"2a98f855-6591-477d-9d5b-eb868632ef82\" class=\"plotly-graph-div\" style=\"height:525px; width:100%;\"></div>            <script type=\"text/javascript\">                require([\"plotly\"], function(Plotly) {                    window.PLOTLYENV=window.PLOTLYENV || {};                                    if (document.getElementById(\"2a98f855-6591-477d-9d5b-eb868632ef82\")) {                    Plotly.newPlot(                        \"2a98f855-6591-477d-9d5b-eb868632ef82\",                        [{\"line\":{\"color\":\"red\"},\"name\":\"prediction\",\"x\":[\"2020-01-06T00:00:00\",\"2020-01-13T00:00:00\",\"2020-01-20T00:00:00\",\"2020-01-27T00:00:00\",\"2020-02-03T00:00:00\",\"2020-02-10T00:00:00\",\"2020-02-17T00:00:00\",\"2020-02-24T00:00:00\",\"2020-03-02T00:00:00\",\"2020-03-09T00:00:00\",\"2020-03-16T00:00:00\",\"2020-03-23T00:00:00\"],\"y\":[9.218703269958496,17.643747329711914,26.026870727539062,33.3319206237793,40.177833557128906,48.7001953125,61.45581817626953,79.88383483886719,103.10848236083984,127.7388916015625,148.84519958496094,161.71022033691406],\"type\":\"scatter\"},{\"mode\":\"markers\",\"name\":\"Quantit\\u00e9 observ\\u00e9\",\"x\":[\"2020-01-06T00:00:00\",\"2020-01-13T00:00:00\",\"2020-01-20T00:00:00\",\"2020-01-27T00:00:00\",\"2020-02-03T00:00:00\",\"2020-02-10T00:00:00\",\"2020-02-17T00:00:00\",\"2020-02-24T00:00:00\",\"2020-03-02T00:00:00\",\"2020-03-09T00:00:00\",\"2020-03-16T00:00:00\",\"2020-03-23T00:00:00\"],\"y\":[141.1199951171875,120.95999908447266,215.0399932861328,115.91999816894531,172.1999969482422,136.9199981689453,317.5199890136719,228.47999572753906,330.9599914550781,256.20001220703125,157.9199981689453,182.27999877929688],\"type\":\"scatter\"}],                        {\"title\":{\"text\":\"Pr\\u00e9diction \\u00e0 1 an des quantit\\u00e9s de 70189\"},\"template\":{\"data\":{\"bar\":[{\"error_x\":{\"color\":\"#2a3f5f\"},\"error_y\":{\"color\":\"#2a3f5f\"},\"marker\":{\"line\":{\"color\":\"#E5ECF6\",\"width\":0.5},\"pattern\":{\"fillmode\":\"overlay\",\"size\":10,\"solidity\":0.2}},\"type\":\"bar\"}],\"barpolar\":[{\"marker\":{\"line\":{\"color\":\"#E5ECF6\",\"width\":0.5},\"pattern\":{\"fillmode\":\"overlay\",\"size\":10,\"solidity\":0.2}},\"type\":\"barpolar\"}],\"carpet\":[{\"aaxis\":{\"endlinecolor\":\"#2a3f5f\",\"gridcolor\":\"white\",\"linecolor\":\"white\",\"minorgridcolor\":\"white\",\"startlinecolor\":\"#2a3f5f\"},\"baxis\":{\"endlinecolor\":\"#2a3f5f\",\"gridcolor\":\"white\",\"linecolor\":\"white\",\"minorgridcolor\":\"white\",\"startlinecolor\":\"#2a3f5f\"},\"type\":\"carpet\"}],\"choropleth\":[{\"colorbar\":{\"outlinewidth\":0,\"ticks\":\"\"},\"type\":\"choropleth\"}],\"contour\":[{\"colorbar\":{\"outlinewidth\":0,\"ticks\":\"\"},\"colorscale\":[[0.0,\"#0d0887\"],[0.1111111111111111,\"#46039f\"],[0.2222222222222222,\"#7201a8\"],[0.3333333333333333,\"#9c179e\"],[0.4444444444444444,\"#bd3786\"],[0.5555555555555556,\"#d8576b\"],[0.6666666666666666,\"#ed7953\"],[0.7777777777777778,\"#fb9f3a\"],[0.8888888888888888,\"#fdca26\"],[1.0,\"#f0f921\"]],\"type\":\"contour\"}],\"contourcarpet\":[{\"colorbar\":{\"outlinewidth\":0,\"ticks\":\"\"},\"type\":\"contourcarpet\"}],\"heatmap\":[{\"colorbar\":{\"outlinewidth\":0,\"ticks\":\"\"},\"colorscale\":[[0.0,\"#0d0887\"],[0.1111111111111111,\"#46039f\"],[0.2222222222222222,\"#7201a8\"],[0.3333333333333333,\"#9c179e\"],[0.4444444444444444,\"#bd3786\"],[0.5555555555555556,\"#d8576b\"],[0.6666666666666666,\"#ed7953\"],[0.7777777777777778,\"#fb9f3a\"],[0.8888888888888888,\"#fdca26\"],[1.0,\"#f0f921\"]],\"type\":\"heatmap\"}],\"heatmapgl\":[{\"colorbar\":{\"outlinewidth\":0,\"ticks\":\"\"},\"colorscale\":[[0.0,\"#0d0887\"],[0.1111111111111111,\"#46039f\"],[0.2222222222222222,\"#7201a8\"],[0.3333333333333333,\"#9c179e\"],[0.4444444444444444,\"#bd3786\"],[0.5555555555555556,\"#d8576b\"],[0.6666666666666666,\"#ed7953\"],[0.7777777777777778,\"#fb9f3a\"],[0.8888888888888888,\"#fdca26\"],[1.0,\"#f0f921\"]],\"type\":\"heatmapgl\"}],\"histogram\":[{\"marker\":{\"pattern\":{\"fillmode\":\"overlay\",\"size\":10,\"solidity\":0.2}},\"type\":\"histogram\"}],\"histogram2d\":[{\"colorbar\":{\"outlinewidth\":0,\"ticks\":\"\"},\"colorscale\":[[0.0,\"#0d0887\"],[0.1111111111111111,\"#46039f\"],[0.2222222222222222,\"#7201a8\"],[0.3333333333333333,\"#9c179e\"],[0.4444444444444444,\"#bd3786\"],[0.5555555555555556,\"#d8576b\"],[0.6666666666666666,\"#ed7953\"],[0.7777777777777778,\"#fb9f3a\"],[0.8888888888888888,\"#fdca26\"],[1.0,\"#f0f921\"]],\"type\":\"histogram2d\"}],\"histogram2dcontour\":[{\"colorbar\":{\"outlinewidth\":0,\"ticks\":\"\"},\"colorscale\":[[0.0,\"#0d0887\"],[0.1111111111111111,\"#46039f\"],[0.2222222222222222,\"#7201a8\"],[0.3333333333333333,\"#9c179e\"],[0.4444444444444444,\"#bd3786\"],[0.5555555555555556,\"#d8576b\"],[0.6666666666666666,\"#ed7953\"],[0.7777777777777778,\"#fb9f3a\"],[0.8888888888888888,\"#fdca26\"],[1.0,\"#f0f921\"]],\"type\":\"histogram2dcontour\"}],\"mesh3d\":[{\"colorbar\":{\"outlinewidth\":0,\"ticks\":\"\"},\"type\":\"mesh3d\"}],\"parcoords\":[{\"line\":{\"colorbar\":{\"outlinewidth\":0,\"ticks\":\"\"}},\"type\":\"parcoords\"}],\"pie\":[{\"automargin\":true,\"type\":\"pie\"}],\"scatter\":[{\"marker\":{\"colorbar\":{\"outlinewidth\":0,\"ticks\":\"\"}},\"type\":\"scatter\"}],\"scatter3d\":[{\"line\":{\"colorbar\":{\"outlinewidth\":0,\"ticks\":\"\"}},\"marker\":{\"colorbar\":{\"outlinewidth\":0,\"ticks\":\"\"}},\"type\":\"scatter3d\"}],\"scattercarpet\":[{\"marker\":{\"colorbar\":{\"outlinewidth\":0,\"ticks\":\"\"}},\"type\":\"scattercarpet\"}],\"scattergeo\":[{\"marker\":{\"colorbar\":{\"outlinewidth\":0,\"ticks\":\"\"}},\"type\":\"scattergeo\"}],\"scattergl\":[{\"marker\":{\"colorbar\":{\"outlinewidth\":0,\"ticks\":\"\"}},\"type\":\"scattergl\"}],\"scattermapbox\":[{\"marker\":{\"colorbar\":{\"outlinewidth\":0,\"ticks\":\"\"}},\"type\":\"scattermapbox\"}],\"scatterpolar\":[{\"marker\":{\"colorbar\":{\"outlinewidth\":0,\"ticks\":\"\"}},\"type\":\"scatterpolar\"}],\"scatterpolargl\":[{\"marker\":{\"colorbar\":{\"outlinewidth\":0,\"ticks\":\"\"}},\"type\":\"scatterpolargl\"}],\"scatterternary\":[{\"marker\":{\"colorbar\":{\"outlinewidth\":0,\"ticks\":\"\"}},\"type\":\"scatterternary\"}],\"surface\":[{\"colorbar\":{\"outlinewidth\":0,\"ticks\":\"\"},\"colorscale\":[[0.0,\"#0d0887\"],[0.1111111111111111,\"#46039f\"],[0.2222222222222222,\"#7201a8\"],[0.3333333333333333,\"#9c179e\"],[0.4444444444444444,\"#bd3786\"],[0.5555555555555556,\"#d8576b\"],[0.6666666666666666,\"#ed7953\"],[0.7777777777777778,\"#fb9f3a\"],[0.8888888888888888,\"#fdca26\"],[1.0,\"#f0f921\"]],\"type\":\"surface\"}],\"table\":[{\"cells\":{\"fill\":{\"color\":\"#EBF0F8\"},\"line\":{\"color\":\"white\"}},\"header\":{\"fill\":{\"color\":\"#C8D4E3\"},\"line\":{\"color\":\"white\"}},\"type\":\"table\"}]},\"layout\":{\"annotationdefaults\":{\"arrowcolor\":\"#2a3f5f\",\"arrowhead\":0,\"arrowwidth\":1},\"autotypenumbers\":\"strict\",\"coloraxis\":{\"colorbar\":{\"outlinewidth\":0,\"ticks\":\"\"}},\"colorscale\":{\"diverging\":[[0,\"#8e0152\"],[0.1,\"#c51b7d\"],[0.2,\"#de77ae\"],[0.3,\"#f1b6da\"],[0.4,\"#fde0ef\"],[0.5,\"#f7f7f7\"],[0.6,\"#e6f5d0\"],[0.7,\"#b8e186\"],[0.8,\"#7fbc41\"],[0.9,\"#4d9221\"],[1,\"#276419\"]],\"sequential\":[[0.0,\"#0d0887\"],[0.1111111111111111,\"#46039f\"],[0.2222222222222222,\"#7201a8\"],[0.3333333333333333,\"#9c179e\"],[0.4444444444444444,\"#bd3786\"],[0.5555555555555556,\"#d8576b\"],[0.6666666666666666,\"#ed7953\"],[0.7777777777777778,\"#fb9f3a\"],[0.8888888888888888,\"#fdca26\"],[1.0,\"#f0f921\"]],\"sequentialminus\":[[0.0,\"#0d0887\"],[0.1111111111111111,\"#46039f\"],[0.2222222222222222,\"#7201a8\"],[0.3333333333333333,\"#9c179e\"],[0.4444444444444444,\"#bd3786\"],[0.5555555555555556,\"#d8576b\"],[0.6666666666666666,\"#ed7953\"],[0.7777777777777778,\"#fb9f3a\"],[0.8888888888888888,\"#fdca26\"],[1.0,\"#f0f921\"]]},\"colorway\":[\"#636efa\",\"#EF553B\",\"#00cc96\",\"#ab63fa\",\"#FFA15A\",\"#19d3f3\",\"#FF6692\",\"#B6E880\",\"#FF97FF\",\"#FECB52\"],\"font\":{\"color\":\"#2a3f5f\"},\"geo\":{\"bgcolor\":\"white\",\"lakecolor\":\"white\",\"landcolor\":\"#E5ECF6\",\"showlakes\":true,\"showland\":true,\"subunitcolor\":\"white\"},\"hoverlabel\":{\"align\":\"left\"},\"hovermode\":\"closest\",\"mapbox\":{\"style\":\"light\"},\"paper_bgcolor\":\"white\",\"plot_bgcolor\":\"#E5ECF6\",\"polar\":{\"angularaxis\":{\"gridcolor\":\"white\",\"linecolor\":\"white\",\"ticks\":\"\"},\"bgcolor\":\"#E5ECF6\",\"radialaxis\":{\"gridcolor\":\"white\",\"linecolor\":\"white\",\"ticks\":\"\"}},\"scene\":{\"xaxis\":{\"backgroundcolor\":\"#E5ECF6\",\"gridcolor\":\"white\",\"gridwidth\":2,\"linecolor\":\"white\",\"showbackground\":true,\"ticks\":\"\",\"zerolinecolor\":\"white\"},\"yaxis\":{\"backgroundcolor\":\"#E5ECF6\",\"gridcolor\":\"white\",\"gridwidth\":2,\"linecolor\":\"white\",\"showbackground\":true,\"ticks\":\"\",\"zerolinecolor\":\"white\"},\"zaxis\":{\"backgroundcolor\":\"#E5ECF6\",\"gridcolor\":\"white\",\"gridwidth\":2,\"linecolor\":\"white\",\"showbackground\":true,\"ticks\":\"\",\"zerolinecolor\":\"white\"}},\"shapedefaults\":{\"line\":{\"color\":\"#2a3f5f\"}},\"ternary\":{\"aaxis\":{\"gridcolor\":\"white\",\"linecolor\":\"white\",\"ticks\":\"\"},\"baxis\":{\"gridcolor\":\"white\",\"linecolor\":\"white\",\"ticks\":\"\"},\"bgcolor\":\"#E5ECF6\",\"caxis\":{\"gridcolor\":\"white\",\"linecolor\":\"white\",\"ticks\":\"\"}},\"title\":{\"x\":0.05},\"xaxis\":{\"automargin\":true,\"gridcolor\":\"white\",\"linecolor\":\"white\",\"ticks\":\"\",\"title\":{\"standoff\":15},\"zerolinecolor\":\"white\",\"zerolinewidth\":2},\"yaxis\":{\"automargin\":true,\"gridcolor\":\"white\",\"linecolor\":\"white\",\"ticks\":\"\",\"title\":{\"standoff\":15},\"zerolinecolor\":\"white\",\"zerolinewidth\":2}}},\"shapes\":[{\"line\":{\"color\":\"green\",\"width\":3},\"type\":\"line\",\"x0\":\"2021-01-01 00:00:00\",\"x1\":\"2021-01-01 00:00:00\",\"xref\":\"x\",\"y0\":0,\"y1\":1,\"yref\":\"y domain\"}],\"annotations\":[{\"arrowhead\":1,\"showarrow\":false,\"text\":\"MSE : 21033.77091981823\",\"x\":\"2017\",\"y\":600},{\"arrowhead\":1,\"showarrow\":false,\"text\":\"MAE : 126.47318736712138\",\"x\":\"2017\",\"y\":550}],\"hovermode\":\"x\",\"xaxis\":{\"title\":{\"text\":\"Date\"}},\"yaxis\":{\"title\":{\"text\":\"Quantit\\u00e9s\"}}},                        {\"responsive\": true}                    ).then(function(){\n",
       "                            \n",
       "var gd = document.getElementById('2a98f855-6591-477d-9d5b-eb868632ef82');\n",
       "var x = new MutationObserver(function (mutations, observer) {{\n",
       "        var display = window.getComputedStyle(gd).display;\n",
       "        if (!display || display === 'none') {{\n",
       "            console.log([gd, 'removed!']);\n",
       "            Plotly.purge(gd);\n",
       "            observer.disconnect();\n",
       "        }}\n",
       "}});\n",
       "\n",
       "// Listen for the removal of the full notebook cells\n",
       "var notebookContainer = gd.closest('#notebook-container');\n",
       "if (notebookContainer) {{\n",
       "    x.observe(notebookContainer, {childList: true});\n",
       "}}\n",
       "\n",
       "// Listen for the clearing of the current output cell\n",
       "var outputEl = gd.closest('.output');\n",
       "if (outputEl) {{\n",
       "    x.observe(outputEl, {childList: true});\n",
       "}}\n",
       "\n",
       "                        })                };                });            </script>        </div>"
      ]
     },
     "metadata": {},
     "output_type": "display_data"
    }
   ],
   "source": [
    "plot_my_neural_graph(forecast)"
   ]
  },
  {
   "cell_type": "markdown",
   "id": "e1b82a67",
   "metadata": {},
   "source": [
    "# Entraîner le modèle"
   ]
  },
  {
   "cell_type": "code",
   "execution_count": 49,
   "id": "0323f24c",
   "metadata": {},
   "outputs": [
    {
     "name": "stderr",
     "output_type": "stream",
     "text": [
      "INFO - (NP.df_utils._infer_frequency) - Major frequency W-MON corresponds to 99.363% of the data.\n",
      "INFO - (NP.df_utils._infer_frequency) - Dataframe freq automatically defined as W-MON\n",
      "INFO - (NP.df_utils._infer_frequency) - Major frequency W-MON corresponds to 99.206% of the data.\n",
      "INFO - (NP.df_utils._infer_frequency) - Defined frequency is equal to major frequency - W-MON\n",
      "INFO - (NP.config.init_data_params) - Setting normalization to global as only one dataframe provided for training.\n",
      "INFO - (NP.utils.set_auto_seasonalities) - Disabling weekly seasonality. Run NeuralProphet with weekly_seasonality=True to override this.\n",
      "INFO - (NP.utils.set_auto_seasonalities) - Disabling daily seasonality. Run NeuralProphet with daily_seasonality=True to override this.\n",
      "INFO - (NP.config.set_auto_batch_epoch) - Auto-set batch_size to 16\n",
      "INFO - (NP.config.set_auto_batch_epoch) - Auto-set epochs to 469\n",
      "WARNING - (py.warnings._showwarnmsg) - D:\\Users\\amiar\\anaconda3\\lib\\site-packages\\neuralprophet\\utils.py:205: FutureWarning:\n",
      "\n",
      "The frame.append method is deprecated and will be removed from pandas in a future version. Use pandas.concat instead.\n",
      "\n",
      "\n",
      "WARNING - (py.warnings._showwarnmsg) - D:\\Users\\amiar\\anaconda3\\lib\\site-packages\\neuralprophet\\utils.py:205: FutureWarning:\n",
      "\n",
      "The frame.append method is deprecated and will be removed from pandas in a future version. Use pandas.concat instead.\n",
      "\n",
      "\n",
      "WARNING - (py.warnings._showwarnmsg) - D:\\Users\\amiar\\anaconda3\\lib\\site-packages\\neuralprophet\\utils.py:205: FutureWarning:\n",
      "\n",
      "The frame.append method is deprecated and will be removed from pandas in a future version. Use pandas.concat instead.\n",
      "\n",
      "\n",
      "WARNING - (py.warnings._showwarnmsg) - D:\\Users\\amiar\\anaconda3\\lib\\site-packages\\neuralprophet\\utils.py:205: FutureWarning:\n",
      "\n",
      "The frame.append method is deprecated and will be removed from pandas in a future version. Use pandas.concat instead.\n",
      "\n",
      "\n",
      "WARNING - (py.warnings._showwarnmsg) - D:\\Users\\amiar\\anaconda3\\lib\\site-packages\\neuralprophet\\utils.py:205: FutureWarning:\n",
      "\n",
      "The frame.append method is deprecated and will be removed from pandas in a future version. Use pandas.concat instead.\n",
      "\n",
      "\n",
      "WARNING - (py.warnings._showwarnmsg) - D:\\Users\\amiar\\anaconda3\\lib\\site-packages\\neuralprophet\\utils.py:205: FutureWarning:\n",
      "\n",
      "The frame.append method is deprecated and will be removed from pandas in a future version. Use pandas.concat instead.\n",
      "\n",
      "\n",
      "WARNING - (py.warnings._showwarnmsg) - D:\\Users\\amiar\\anaconda3\\lib\\site-packages\\neuralprophet\\utils.py:205: FutureWarning:\n",
      "\n",
      "The frame.append method is deprecated and will be removed from pandas in a future version. Use pandas.concat instead.\n",
      "\n",
      "\n",
      "WARNING - (py.warnings._showwarnmsg) - D:\\Users\\amiar\\anaconda3\\lib\\site-packages\\neuralprophet\\utils.py:205: FutureWarning:\n",
      "\n",
      "The frame.append method is deprecated and will be removed from pandas in a future version. Use pandas.concat instead.\n",
      "\n",
      "\n",
      "WARNING - (py.warnings._showwarnmsg) - D:\\Users\\amiar\\anaconda3\\lib\\site-packages\\neuralprophet\\utils.py:205: FutureWarning:\n",
      "\n",
      "The frame.append method is deprecated and will be removed from pandas in a future version. Use pandas.concat instead.\n",
      "\n",
      "\n",
      "WARNING - (py.warnings._showwarnmsg) - D:\\Users\\amiar\\anaconda3\\lib\\site-packages\\neuralprophet\\utils.py:205: FutureWarning:\n",
      "\n",
      "The frame.append method is deprecated and will be removed from pandas in a future version. Use pandas.concat instead.\n",
      "\n",
      "\n",
      "WARNING - (py.warnings._showwarnmsg) - D:\\Users\\amiar\\anaconda3\\lib\\site-packages\\neuralprophet\\utils.py:205: FutureWarning:\n",
      "\n",
      "The frame.append method is deprecated and will be removed from pandas in a future version. Use pandas.concat instead.\n",
      "\n",
      "\n"
     ]
    },
    {
     "data": {
      "application/vnd.jupyter.widget-view+json": {
       "model_id": "93f243cb73fb4047819ff2f9a925cf78",
       "version_major": 2,
       "version_minor": 0
      },
      "text/plain": [
       "  0%|          | 0/108 [00:00<?, ?it/s]"
      ]
     },
     "metadata": {},
     "output_type": "display_data"
    },
    {
     "name": "stderr",
     "output_type": "stream",
     "text": [
      "INFO - (NP.utils_torch.lr_range_test) - lr-range-test results: steep: 9.37E-02, min: 1.71E+00\n"
     ]
    },
    {
     "data": {
      "application/vnd.jupyter.widget-view+json": {
       "model_id": "9ff6c4f366ab450588bdc1ea796ce103",
       "version_major": 2,
       "version_minor": 0
      },
      "text/plain": [
       "  0%|          | 0/108 [00:00<?, ?it/s]"
      ]
     },
     "metadata": {},
     "output_type": "display_data"
    },
    {
     "name": "stderr",
     "output_type": "stream",
     "text": [
      "INFO - (NP.utils_torch.lr_range_test) - lr-range-test results: steep: 9.37E-02, min: 2.03E-01\n",
      "INFO - (NP.forecaster._init_train_loader) - lr-range-test selected learning rate: 9.58E-02\n",
      "Epoch[469/469]: 100%|█| 469/469 [00:16<00:00, 27.99it/s, SmoothL1Loss=0.0117, MAE=42.1, RMSE=53.2, RegLoss=0, MAE_val=1\n",
      "INFO - (NP.df_utils._infer_frequency) - Major frequency W-MON corresponds to 91.667% of the data.\n",
      "INFO - (NP.df_utils._infer_frequency) - Defined frequency is equal to major frequency - W-MON\n",
      "INFO - (NP.df_utils._infer_frequency) - Major frequency W-MON corresponds to 91.667% of the data.\n",
      "INFO - (NP.df_utils._infer_frequency) - Defined frequency is equal to major frequency - W-MON\n"
     ]
    },
    {
     "data": {
      "text/html": [
       "<div>\n",
       "<style scoped>\n",
       "    .dataframe tbody tr th:only-of-type {\n",
       "        vertical-align: middle;\n",
       "    }\n",
       "\n",
       "    .dataframe tbody tr th {\n",
       "        vertical-align: top;\n",
       "    }\n",
       "\n",
       "    .dataframe thead th {\n",
       "        text-align: right;\n",
       "    }\n",
       "</style>\n",
       "<table border=\"1\" class=\"dataframe\">\n",
       "  <thead>\n",
       "    <tr style=\"text-align: right;\">\n",
       "      <th></th>\n",
       "      <th>ds</th>\n",
       "      <th>y</th>\n",
       "      <th>yhat1</th>\n",
       "      <th>residual1</th>\n",
       "      <th>trend</th>\n",
       "      <th>season_yearly</th>\n",
       "      <th>events_additive</th>\n",
       "      <th>event_Armistice 1918</th>\n",
       "      <th>event_Armistice 1945</th>\n",
       "      <th>event_Ascension</th>\n",
       "      <th>event_Assomption</th>\n",
       "      <th>event_Fête du Travail</th>\n",
       "      <th>event_Fête nationale</th>\n",
       "      <th>event_Jour de l'an</th>\n",
       "      <th>event_Lundi de Pentecôte</th>\n",
       "      <th>event_Lundi de Pâques</th>\n",
       "      <th>event_Noël</th>\n",
       "      <th>event_Toussaint</th>\n",
       "    </tr>\n",
       "  </thead>\n",
       "  <tbody>\n",
       "    <tr>\n",
       "      <th>0</th>\n",
       "      <td>2020-01-06</td>\n",
       "      <td>141.119995</td>\n",
       "      <td>9.218703</td>\n",
       "      <td>-131.901292</td>\n",
       "      <td>63.673771</td>\n",
       "      <td>-54.455067</td>\n",
       "      <td>0.0</td>\n",
       "      <td>0.0</td>\n",
       "      <td>0.0</td>\n",
       "      <td>0.0</td>\n",
       "      <td>0.0</td>\n",
       "      <td>0.0</td>\n",
       "      <td>0.0</td>\n",
       "      <td>0.0</td>\n",
       "      <td>0.0</td>\n",
       "      <td>0.0</td>\n",
       "      <td>0.0</td>\n",
       "      <td>0.0</td>\n",
       "    </tr>\n",
       "    <tr>\n",
       "      <th>1</th>\n",
       "      <td>2020-01-13</td>\n",
       "      <td>120.959999</td>\n",
       "      <td>17.643747</td>\n",
       "      <td>-103.316252</td>\n",
       "      <td>60.872013</td>\n",
       "      <td>-43.228264</td>\n",
       "      <td>0.0</td>\n",
       "      <td>0.0</td>\n",
       "      <td>0.0</td>\n",
       "      <td>0.0</td>\n",
       "      <td>0.0</td>\n",
       "      <td>0.0</td>\n",
       "      <td>0.0</td>\n",
       "      <td>0.0</td>\n",
       "      <td>0.0</td>\n",
       "      <td>0.0</td>\n",
       "      <td>0.0</td>\n",
       "      <td>0.0</td>\n",
       "    </tr>\n",
       "    <tr>\n",
       "      <th>2</th>\n",
       "      <td>2020-01-20</td>\n",
       "      <td>215.039993</td>\n",
       "      <td>26.026871</td>\n",
       "      <td>-189.013123</td>\n",
       "      <td>58.070301</td>\n",
       "      <td>-32.043430</td>\n",
       "      <td>0.0</td>\n",
       "      <td>0.0</td>\n",
       "      <td>0.0</td>\n",
       "      <td>0.0</td>\n",
       "      <td>0.0</td>\n",
       "      <td>0.0</td>\n",
       "      <td>0.0</td>\n",
       "      <td>0.0</td>\n",
       "      <td>0.0</td>\n",
       "      <td>0.0</td>\n",
       "      <td>0.0</td>\n",
       "      <td>0.0</td>\n",
       "    </tr>\n",
       "    <tr>\n",
       "      <th>3</th>\n",
       "      <td>2020-01-27</td>\n",
       "      <td>115.919998</td>\n",
       "      <td>33.331921</td>\n",
       "      <td>-82.588078</td>\n",
       "      <td>55.268501</td>\n",
       "      <td>-21.936577</td>\n",
       "      <td>0.0</td>\n",
       "      <td>0.0</td>\n",
       "      <td>0.0</td>\n",
       "      <td>0.0</td>\n",
       "      <td>0.0</td>\n",
       "      <td>0.0</td>\n",
       "      <td>0.0</td>\n",
       "      <td>0.0</td>\n",
       "      <td>0.0</td>\n",
       "      <td>0.0</td>\n",
       "      <td>0.0</td>\n",
       "      <td>0.0</td>\n",
       "    </tr>\n",
       "    <tr>\n",
       "      <th>4</th>\n",
       "      <td>2020-02-03</td>\n",
       "      <td>172.199997</td>\n",
       "      <td>40.177834</td>\n",
       "      <td>-132.022163</td>\n",
       "      <td>52.466747</td>\n",
       "      <td>-12.288912</td>\n",
       "      <td>0.0</td>\n",
       "      <td>0.0</td>\n",
       "      <td>0.0</td>\n",
       "      <td>0.0</td>\n",
       "      <td>0.0</td>\n",
       "      <td>0.0</td>\n",
       "      <td>0.0</td>\n",
       "      <td>0.0</td>\n",
       "      <td>0.0</td>\n",
       "      <td>0.0</td>\n",
       "      <td>0.0</td>\n",
       "      <td>0.0</td>\n",
       "    </tr>\n",
       "    <tr>\n",
       "      <th>5</th>\n",
       "      <td>2020-02-10</td>\n",
       "      <td>136.919998</td>\n",
       "      <td>48.700195</td>\n",
       "      <td>-88.219803</td>\n",
       "      <td>49.664989</td>\n",
       "      <td>-0.964795</td>\n",
       "      <td>0.0</td>\n",
       "      <td>0.0</td>\n",
       "      <td>0.0</td>\n",
       "      <td>0.0</td>\n",
       "      <td>0.0</td>\n",
       "      <td>0.0</td>\n",
       "      <td>0.0</td>\n",
       "      <td>0.0</td>\n",
       "      <td>0.0</td>\n",
       "      <td>0.0</td>\n",
       "      <td>0.0</td>\n",
       "      <td>0.0</td>\n",
       "    </tr>\n",
       "    <tr>\n",
       "      <th>6</th>\n",
       "      <td>2020-02-17</td>\n",
       "      <td>317.519989</td>\n",
       "      <td>61.455818</td>\n",
       "      <td>-256.064171</td>\n",
       "      <td>46.863194</td>\n",
       "      <td>14.592627</td>\n",
       "      <td>0.0</td>\n",
       "      <td>0.0</td>\n",
       "      <td>0.0</td>\n",
       "      <td>0.0</td>\n",
       "      <td>0.0</td>\n",
       "      <td>0.0</td>\n",
       "      <td>0.0</td>\n",
       "      <td>0.0</td>\n",
       "      <td>0.0</td>\n",
       "      <td>0.0</td>\n",
       "      <td>0.0</td>\n",
       "      <td>0.0</td>\n",
       "    </tr>\n",
       "    <tr>\n",
       "      <th>7</th>\n",
       "      <td>2020-02-24</td>\n",
       "      <td>228.479996</td>\n",
       "      <td>79.883835</td>\n",
       "      <td>-148.596161</td>\n",
       "      <td>44.061436</td>\n",
       "      <td>35.822399</td>\n",
       "      <td>0.0</td>\n",
       "      <td>0.0</td>\n",
       "      <td>0.0</td>\n",
       "      <td>0.0</td>\n",
       "      <td>0.0</td>\n",
       "      <td>0.0</td>\n",
       "      <td>0.0</td>\n",
       "      <td>0.0</td>\n",
       "      <td>0.0</td>\n",
       "      <td>0.0</td>\n",
       "      <td>0.0</td>\n",
       "      <td>0.0</td>\n",
       "    </tr>\n",
       "    <tr>\n",
       "      <th>8</th>\n",
       "      <td>2020-03-02</td>\n",
       "      <td>330.959991</td>\n",
       "      <td>103.108482</td>\n",
       "      <td>-227.851509</td>\n",
       "      <td>41.259682</td>\n",
       "      <td>61.848797</td>\n",
       "      <td>0.0</td>\n",
       "      <td>0.0</td>\n",
       "      <td>0.0</td>\n",
       "      <td>0.0</td>\n",
       "      <td>0.0</td>\n",
       "      <td>0.0</td>\n",
       "      <td>0.0</td>\n",
       "      <td>0.0</td>\n",
       "      <td>0.0</td>\n",
       "      <td>0.0</td>\n",
       "      <td>0.0</td>\n",
       "      <td>0.0</td>\n",
       "    </tr>\n",
       "    <tr>\n",
       "      <th>9</th>\n",
       "      <td>2020-03-09</td>\n",
       "      <td>256.200012</td>\n",
       "      <td>127.738892</td>\n",
       "      <td>-128.461121</td>\n",
       "      <td>38.457924</td>\n",
       "      <td>89.280968</td>\n",
       "      <td>0.0</td>\n",
       "      <td>0.0</td>\n",
       "      <td>0.0</td>\n",
       "      <td>0.0</td>\n",
       "      <td>0.0</td>\n",
       "      <td>0.0</td>\n",
       "      <td>0.0</td>\n",
       "      <td>0.0</td>\n",
       "      <td>0.0</td>\n",
       "      <td>0.0</td>\n",
       "      <td>0.0</td>\n",
       "      <td>0.0</td>\n",
       "    </tr>\n",
       "    <tr>\n",
       "      <th>10</th>\n",
       "      <td>2020-03-16</td>\n",
       "      <td>157.919998</td>\n",
       "      <td>148.845200</td>\n",
       "      <td>-9.074799</td>\n",
       "      <td>35.656170</td>\n",
       "      <td>113.189034</td>\n",
       "      <td>0.0</td>\n",
       "      <td>0.0</td>\n",
       "      <td>0.0</td>\n",
       "      <td>0.0</td>\n",
       "      <td>0.0</td>\n",
       "      <td>0.0</td>\n",
       "      <td>0.0</td>\n",
       "      <td>0.0</td>\n",
       "      <td>0.0</td>\n",
       "      <td>0.0</td>\n",
       "      <td>0.0</td>\n",
       "      <td>0.0</td>\n",
       "    </tr>\n",
       "    <tr>\n",
       "      <th>11</th>\n",
       "      <td>2020-03-23</td>\n",
       "      <td>182.279999</td>\n",
       "      <td>161.710220</td>\n",
       "      <td>-20.569778</td>\n",
       "      <td>32.854412</td>\n",
       "      <td>128.855820</td>\n",
       "      <td>0.0</td>\n",
       "      <td>0.0</td>\n",
       "      <td>0.0</td>\n",
       "      <td>0.0</td>\n",
       "      <td>0.0</td>\n",
       "      <td>0.0</td>\n",
       "      <td>0.0</td>\n",
       "      <td>0.0</td>\n",
       "      <td>0.0</td>\n",
       "      <td>0.0</td>\n",
       "      <td>0.0</td>\n",
       "      <td>0.0</td>\n",
       "    </tr>\n",
       "  </tbody>\n",
       "</table>\n",
       "</div>"
      ],
      "text/plain": [
       "           ds           y       yhat1   residual1      trend  season_yearly  \\\n",
       "0  2020-01-06  141.119995    9.218703 -131.901292  63.673771     -54.455067   \n",
       "1  2020-01-13  120.959999   17.643747 -103.316252  60.872013     -43.228264   \n",
       "2  2020-01-20  215.039993   26.026871 -189.013123  58.070301     -32.043430   \n",
       "3  2020-01-27  115.919998   33.331921  -82.588078  55.268501     -21.936577   \n",
       "4  2020-02-03  172.199997   40.177834 -132.022163  52.466747     -12.288912   \n",
       "5  2020-02-10  136.919998   48.700195  -88.219803  49.664989      -0.964795   \n",
       "6  2020-02-17  317.519989   61.455818 -256.064171  46.863194      14.592627   \n",
       "7  2020-02-24  228.479996   79.883835 -148.596161  44.061436      35.822399   \n",
       "8  2020-03-02  330.959991  103.108482 -227.851509  41.259682      61.848797   \n",
       "9  2020-03-09  256.200012  127.738892 -128.461121  38.457924      89.280968   \n",
       "10 2020-03-16  157.919998  148.845200   -9.074799  35.656170     113.189034   \n",
       "11 2020-03-23  182.279999  161.710220  -20.569778  32.854412     128.855820   \n",
       "\n",
       "    events_additive  event_Armistice 1918  event_Armistice 1945  \\\n",
       "0               0.0                   0.0                   0.0   \n",
       "1               0.0                   0.0                   0.0   \n",
       "2               0.0                   0.0                   0.0   \n",
       "3               0.0                   0.0                   0.0   \n",
       "4               0.0                   0.0                   0.0   \n",
       "5               0.0                   0.0                   0.0   \n",
       "6               0.0                   0.0                   0.0   \n",
       "7               0.0                   0.0                   0.0   \n",
       "8               0.0                   0.0                   0.0   \n",
       "9               0.0                   0.0                   0.0   \n",
       "10              0.0                   0.0                   0.0   \n",
       "11              0.0                   0.0                   0.0   \n",
       "\n",
       "    event_Ascension  event_Assomption  event_Fête du Travail  \\\n",
       "0               0.0               0.0                    0.0   \n",
       "1               0.0               0.0                    0.0   \n",
       "2               0.0               0.0                    0.0   \n",
       "3               0.0               0.0                    0.0   \n",
       "4               0.0               0.0                    0.0   \n",
       "5               0.0               0.0                    0.0   \n",
       "6               0.0               0.0                    0.0   \n",
       "7               0.0               0.0                    0.0   \n",
       "8               0.0               0.0                    0.0   \n",
       "9               0.0               0.0                    0.0   \n",
       "10              0.0               0.0                    0.0   \n",
       "11              0.0               0.0                    0.0   \n",
       "\n",
       "    event_Fête nationale  event_Jour de l'an  event_Lundi de Pentecôte  \\\n",
       "0                    0.0                 0.0                       0.0   \n",
       "1                    0.0                 0.0                       0.0   \n",
       "2                    0.0                 0.0                       0.0   \n",
       "3                    0.0                 0.0                       0.0   \n",
       "4                    0.0                 0.0                       0.0   \n",
       "5                    0.0                 0.0                       0.0   \n",
       "6                    0.0                 0.0                       0.0   \n",
       "7                    0.0                 0.0                       0.0   \n",
       "8                    0.0                 0.0                       0.0   \n",
       "9                    0.0                 0.0                       0.0   \n",
       "10                   0.0                 0.0                       0.0   \n",
       "11                   0.0                 0.0                       0.0   \n",
       "\n",
       "    event_Lundi de Pâques  event_Noël  event_Toussaint  \n",
       "0                     0.0         0.0              0.0  \n",
       "1                     0.0         0.0              0.0  \n",
       "2                     0.0         0.0              0.0  \n",
       "3                     0.0         0.0              0.0  \n",
       "4                     0.0         0.0              0.0  \n",
       "5                     0.0         0.0              0.0  \n",
       "6                     0.0         0.0              0.0  \n",
       "7                     0.0         0.0              0.0  \n",
       "8                     0.0         0.0              0.0  \n",
       "9                     0.0         0.0              0.0  \n",
       "10                    0.0         0.0              0.0  \n",
       "11                    0.0         0.0              0.0  "
      ]
     },
     "execution_count": 49,
     "metadata": {},
     "output_type": "execute_result"
    }
   ],
   "source": [
    "m, danone, future, forecast, residuals, metrics = train_neural_prophet_model(params)\n",
    "metrics"
   ]
  }
 ],
 "metadata": {
  "kernelspec": {
   "display_name": "Python 3 (ipykernel)",
   "language": "python",
   "name": "python3"
  },
  "language_info": {
   "codemirror_mode": {
    "name": "ipython",
    "version": 3
   },
   "file_extension": ".py",
   "mimetype": "text/x-python",
   "name": "python",
   "nbconvert_exporter": "python",
   "pygments_lexer": "ipython3",
   "version": "3.9.12"
  }
 },
 "nbformat": 4,
 "nbformat_minor": 5
}
